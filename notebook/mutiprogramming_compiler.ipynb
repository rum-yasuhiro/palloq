{
 "cells": [
  {
   "cell_type": "markdown",
   "metadata": {},
   "source": [
    "# palloq: Multi-Programming Compiler"
   ]
  },
  {
   "cell_type": "markdown",
   "metadata": {},
   "source": [
    "\n",
    "[Randomized Benchmarking](https://qiskit.org/textbook/ch-quantum-hardware/randomized-benchmarking.html)\n"
   ]
  },
  {
   "cell_type": "markdown",
   "metadata": {},
   "source": []
  },
  {
   "cell_type": "code",
   "execution_count": 3,
   "metadata": {},
   "outputs": [],
   "source": [
    "# import python tools\n",
    "import glob\n",
    "\n",
    "# Import Qiskit tools\n",
    "from qiskit.test.mock import FakeToronto\n",
    "from qiskit import QuantumCircuit\n",
    "\n",
    "# Import compiler for multi-programming\n",
    "from palloq.compiler import dynamic_multiqc_compose"
   ]
  },
  {
   "cell_type": "code",
   "execution_count": 17,
   "metadata": {},
   "outputs": [
    {
     "name": "stdout",
     "output_type": "stream",
     "text": [
      "     ┌───┐┌───┐                 ┌───┐     ┌─────┐                ┌───┐     ┌─┐»\n",
      "q_0: ┤ X ├┤ T ├───■─────────────┤ X ├──■──┤ Tdg ├──■─────────────┤ X ├─────┤M├»\n",
      "     ├───┤├───┤ ┌─┴─┐           └─┬─┘┌─┴─┐├─────┤┌─┴─┐     ┌─┐   └─┬─┘     └╥┘»\n",
      "q_1: ┤ X ├┤ T ├─┤ X ├────────■────┼──┤ X ├┤ Tdg ├┤ X ├─────┤M├─────┼────────╫─»\n",
      "     └───┘└───┘ ├───┤      ┌─┴─┐  │  └───┘├─────┤└───┘     └╥┘┌─┐  │        ║ »\n",
      "q_2: ───────■───┤ T ├───■──┤ X ├──┼────■──┤ Tdg ├──■────────╫─┤M├──┼────────╫─»\n",
      "     ┌───┐┌─┴─┐┌┴───┴┐┌─┴─┐└───┘  │  ┌─┴─┐└┬───┬┘┌─┴─┐┌───┐ ║ └╥┘  │  ┌───┐ ║ »\n",
      "q_3: ┤ H ├┤ X ├┤ Tdg ├┤ X ├───────■──┤ X ├─┤ T ├─┤ X ├┤ S ├─╫──╫───■──┤ H ├─╫─»\n",
      "     └───┘└───┘└─────┘└───┘          └───┘ └───┘ └───┘└───┘ ║  ║      └───┘ ║ »\n",
      "c: 4/═══════════════════════════════════════════════════════╩══╩════════════╩═»\n",
      "                                                            1  2            0 »\n",
      "«        \n",
      "«q_0: ───\n",
      "«        \n",
      "«q_1: ───\n",
      "«        \n",
      "«q_2: ───\n",
      "«     ┌─┐\n",
      "«q_3: ┤M├\n",
      "«     └╥┘\n",
      "«c: 4/═╩═\n",
      "«      3 \n",
      "     ┌───┐                                                        ┌───┐┌─┐   \n",
      "a_0: ┤ X ├──────────────■─────────────────────■────■───────────■──┤ T ├┤M├───\n",
      "     ├───┤              │            ┌─────┐  │  ┌─┴─┐┌─────┐┌─┴─┐├───┤└╥┘┌─┐\n",
      "a_1: ┤ X ├──■───────────┼─────────■──┤ Tdg ├──┼──┤ X ├┤ Tdg ├┤ X ├┤ S ├─╫─┤M├\n",
      "     ├───┤┌─┴─┐┌─────┐┌─┴─┐┌───┐┌─┴─┐├─────┤┌─┴─┐├───┤└┬───┬┘└┬─┬┘└───┘ ║ └╥┘\n",
      "a_2: ┤ H ├┤ X ├┤ Tdg ├┤ X ├┤ T ├┤ X ├┤ Tdg ├┤ X ├┤ T ├─┤ H ├──┤M├───────╫──╫─\n",
      "     └───┘└───┘└─────┘└───┘└───┘└───┘└─────┘└───┘└───┘ └───┘  └╥┘       ║  ║ \n",
      "c: 3/══════════════════════════════════════════════════════════╩════════╩══╩═\n",
      "                                                               2        0  1 \n",
      "     ┌───┐           ┌───┐                                        ┌─┐          »\n",
      "q_0: ┤ X ├───────■───┤ T ├────────■───────────■───────────■───────┤M├──────────»\n",
      "     ├───┤┌───┐┌─┴─┐┌┴───┴┐┌───┐  │   ┌───┐ ┌─┴─┐┌─────┐  │  ┌───┐└╥┘┌───┐┌───┐»\n",
      "q_1: ┤ X ├┤ X ├┤ X ├┤ Tdg ├┤ X ├──┼───┤ T ├─┤ X ├┤ Tdg ├──┼──┤ X ├─╫─┤ T ├┤ X ├»\n",
      "     └───┘└─┬─┘├───┤└┬───┬┘└─┬─┘┌─┴─┐┌┴───┴┐└───┘└─────┘┌─┴─┐└─┬─┘ ║ ├───┤└─┬─┘»\n",
      "q_2: ───────■──┤ H ├─┤ T ├───■──┤ X ├┤ Tdg ├────────────┤ X ├──■───╫─┤ H ├──■──»\n",
      "               └───┘ └───┘      └───┘└─────┘            └───┘      ║ └───┘     »\n",
      "c: 3/══════════════════════════════════════════════════════════════╩═══════════»\n",
      "                                                                   0           »\n",
      "«           \n",
      "«q_0: ──────\n",
      "«     ┌─┐   \n",
      "«q_1: ┤M├───\n",
      "«     └╥┘┌─┐\n",
      "«q_2: ─╫─┤M├\n",
      "«      ║ └╥┘\n",
      "«c: 3/═╩══╩═\n",
      "«      1  2 \n"
     ]
    }
   ],
   "source": [
    "# prepare quantum circuits\n",
    "\n",
    "# QuantumCircuit from qasm files\n",
    "qc_list = []\n",
    "for qasm_file in glob.glob(\"./qasm/*\"):\n",
    "    _qc = QuantumCircuit.from_qasm_file(qasm_file)\n",
    "    qc_list.append(_qc)\n",
    "    print(_qc)\n"
   ]
  },
  {
   "cell_type": "code",
   "execution_count": null,
   "metadata": {},
   "outputs": [],
   "source": []
  }
 ],
 "metadata": {
  "interpreter": {
   "hash": "a0c96b8d934db4f73bcff62f3241a600376e4464811867823485d7f0f50aefef"
  },
  "kernelspec": {
   "display_name": "Python 3.8.5 64-bit ('.venv': pipenv)",
   "language": "python",
   "name": "python3"
  },
  "language_info": {
   "codemirror_mode": {
    "name": "ipython",
    "version": 3
   },
   "file_extension": ".py",
   "mimetype": "text/x-python",
   "name": "python",
   "nbconvert_exporter": "python",
   "pygments_lexer": "ipython3",
   "version": "3.8.5"
  },
  "orig_nbformat": 4
 },
 "nbformat": 4,
 "nbformat_minor": 2
}
