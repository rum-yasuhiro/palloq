{
 "cells": [
  {
   "cell_type": "markdown",
   "metadata": {},
   "source": [
    "# palloq: Adjacent Crosstalk detection based on Simultaneous Randomized Benchmarking\n",
    "\n",
    "2021/11/30<br>\n",
    "Written by Yasuhiro Ohkura"
   ]
  },
  {
   "cell_type": "markdown",
   "metadata": {},
   "source": []
  },
  {
   "cell_type": "code",
   "execution_count": 1,
   "metadata": {},
   "outputs": [],
   "source": [
    "from palloq.verification.adjacent_crosstalk_detection import run_2q_detection"
   ]
  },
  {
   "cell_type": "code",
   "execution_count": null,
   "metadata": {},
   "outputs": [],
   "source": []
  },
  {
   "cell_type": "markdown",
   "metadata": {},
   "source": []
  }
 ],
 "metadata": {
  "interpreter": {
   "hash": "a0c96b8d934db4f73bcff62f3241a600376e4464811867823485d7f0f50aefef"
  },
  "kernelspec": {
   "display_name": "Python 3.8.5 64-bit ('.venv': pipenv)",
   "language": "python",
   "name": "python3"
  },
  "language_info": {
   "codemirror_mode": {
    "name": "ipython",
    "version": 3
   },
   "file_extension": ".py",
   "mimetype": "text/x-python",
   "name": "python",
   "nbconvert_exporter": "python",
   "pygments_lexer": "ipython3",
   "version": "3.8.5"
  },
  "orig_nbformat": 4
 },
 "nbformat": 4,
 "nbformat_minor": 2
}
