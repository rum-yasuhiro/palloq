{
 "cells": [
  {
   "cell_type": "markdown",
   "metadata": {},
   "source": [
    "# palloq: Adjacent Crosstalk detection based on Simultaneous Randomized Benchmarking\n",
    "\n",
    "2021/11/30<br>\n",
    "Written by Yasuhiro Ohkura"
   ]
  },
  {
   "cell_type": "markdown",
   "metadata": {},
   "source": []
  },
  {
   "cell_type": "code",
   "execution_count": 1,
   "metadata": {},
   "outputs": [],
   "source": [
    "from palloq.verification.adjacent_crosstalk_detection import run_2q_detection"
   ]
  },
  {
   "cell_type": "code",
   "execution_count": null,
   "metadata": {},
   "outputs": [],
   "source": [
    "# Import Qiskit classes \n",
    "import qiskit\n",
    "from qiskit import assemble, transpile\n",
    "from qiskit.providers.aer.noise import NoiseModel\n",
    "from qiskit.providers.aer.noise.errors.standard_errors import depolarizing_error, thermal_relaxation_error"
   ]
  },
  {
   "cell_type": "code",
   "execution_count": null,
   "metadata": {},
   "outputs": [],
   "source": [
    "# Run on a noisy simulator\n",
    "noise_model = NoiseModel()\n",
    "\n",
    "# Depolarizing error on the gates u2, u3 and cx (assuming the u1 is virtual-Z gate and no error)\n",
    "p1Q = 0.002\n",
    "p2Q = 0.01\n",
    "\n",
    "noise_model.add_all_qubit_quantum_error(depolarizing_error(p1Q, 1), 'u2')\n",
    "noise_model.add_all_qubit_quantum_error(depolarizing_error(2 * p1Q, 1), 'u3')\n",
    "noise_model.add_all_qubit_quantum_error(depolarizing_error(p2Q, 2), 'cx')\n",
    "\n",
    "backend = qiskit.Aer.get_backend('aer_simulator')"
   ]
  },
  {
   "cell_type": "markdown",
   "metadata": {},
   "source": []
  }
 ],
 "metadata": {
  "interpreter": {
   "hash": "a0c96b8d934db4f73bcff62f3241a600376e4464811867823485d7f0f50aefef"
  },
  "kernelspec": {
   "display_name": "Python 3.8.5 64-bit ('.venv': pipenv)",
   "language": "python",
   "name": "python3"
  },
  "language_info": {
   "codemirror_mode": {
    "name": "ipython",
    "version": 3
   },
   "file_extension": ".py",
   "mimetype": "text/x-python",
   "name": "python",
   "nbconvert_exporter": "python",
   "pygments_lexer": "ipython3",
   "version": "3.8.5"
  },
  "orig_nbformat": 4
 },
 "nbformat": 4,
 "nbformat_minor": 2
}
